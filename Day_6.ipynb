{
 "cells": [
  {
   "cell_type": "code",
   "execution_count": 34,
   "id": "a5f87cb4-af94-497a-921d-0f797f6ffcb1",
   "metadata": {},
   "outputs": [],
   "source": [
    "#************Question1:\n",
    "\n",
    "class Point3D:\n",
    "    \n",
    "    def __init__(self, x,y,z):\n",
    "        self.x = x\n",
    "        self.y = y\n",
    "        self.z = z\n",
    "        \n",
    "    def afficher(self):\n",
    "        print(\"({},{},{})\".format( self.x, self.y,self.z))\n",
    "        "
   ]
  },
  {
   "cell_type": "code",
   "execution_count": 33,
   "id": "196535ad-b1fb-481c-82a8-38b91a2d0740",
   "metadata": {},
   "outputs": [
    {
     "name": "stdout",
     "output_type": "stream",
     "text": [
      "(1,2,3)\n"
     ]
    }
   ],
   "source": [
    "my_point=Point3D(1,2,3)\n",
    "my_point.afficher()"
   ]
  },
  {
   "cell_type": "code",
   "execution_count": 26,
   "id": "b02155fb-dc08-4dff-933d-fc889ae39b4b",
   "metadata": {},
   "outputs": [],
   "source": [
    "#************Question2:\n",
    "\n",
    "class rectangle:\n",
    "    \n",
    "    def __init__(self, longueur,largeur):\n",
    "        self.longueur=longueur\n",
    "        self.largeur=largeur\n",
    "        \n",
    "    def air(self):\n",
    "        return (self.longueur*self.largeur)\n",
    "    \n",
    "    def périmètre(self):\n",
    "        return(2*(self.longueur+self.largeur))\n",
    "    \n",
    "    def afficher(self):\n",
    "        print(\"air ={} , périmètre ={}\".format(self.air(),self.périmètre()))\n",
    "         "
   ]
  },
  {
   "cell_type": "code",
   "execution_count": 27,
   "id": "f60ee039-3793-415a-992c-7ba4ac5cc88c",
   "metadata": {},
   "outputs": [
    {
     "name": "stdout",
     "output_type": "stream",
     "text": [
      "air =12 , périmètre =14\n"
     ]
    }
   ],
   "source": [
    "my_rectangle=rectangle(3,4)\n",
    "my_rectangle.afficher()"
   ]
  },
  {
   "cell_type": "code",
   "execution_count": 43,
   "id": "feeb5daa-b173-43f2-a776-4568dd352d0e",
   "metadata": {
    "tags": []
   },
   "outputs": [],
   "source": [
    "#************Question3:\n",
    "\n",
    "from math import *\n",
    "class Cercle:\n",
    "    def __init__(self,a,b,r):\n",
    "        self.a = a\n",
    "        self.b = b\n",
    "        self.r = r\n",
    "    \n",
    "    def perimetre(self):\n",
    "        return 2*pi*self.r\n",
    "       \n",
    "        \n",
    "    def surface(self):\n",
    "        return pi*self.r**2\n",
    "    \n",
    "    def afficher(self):\n",
    "        print(\"le périmètre du cercle C est  : \", self.perimetre())\n",
    "        print(\"le surface du cercle C est  : \", self.surface())\n",
    "        \n",
    "\n",
    "    def Formulecerle(self,x,y):      \n",
    "        return (x-self.a)**2 + (y-self.b)**2 -self.r**2\n",
    "    \n",
    "    def isInside(self,x,y):\n",
    "        if(self.Formulecerle(x,y)==0):\n",
    "            print(\"le point : (\",x,y,\") appartient au cercle C\")\n",
    "        else:\n",
    "            print(\"le point : (\",x,y,\") n'appartient pas au cercle C\")\n",
    "            "
   ]
  },
  {
   "cell_type": "code",
   "execution_count": 44,
   "id": "1c1cd22e-d5d5-4dd4-a880-f5e6bd3133e9",
   "metadata": {},
   "outputs": [
    {
     "name": "stdout",
     "output_type": "stream",
     "text": [
      "le périmètre du cercle C est  :  6.283185307179586\n",
      "le surface du cercle C est  :  3.141592653589793\n",
      "le point : ( 1 1 ) appartient au cercle C\n"
     ]
    }
   ],
   "source": [
    "  \n",
    "C = Cercle(1,2,1)\n",
    "C.afficher()\n",
    "C.isInside(1,1)"
   ]
  },
  {
   "cell_type": "code",
   "execution_count": 46,
   "id": "14ba4a22-226a-4091-95d3-fe130d3a7cb2",
   "metadata": {},
   "outputs": [],
   "source": [
    "#************Question4:\n",
    "\n",
    "\n",
    "class bank:\n",
    "    def __init__(self, nomPrenom, solde):\n",
    "        \n",
    "        self.nomPrenom = nomPrenom\n",
    "        self.solde = solde\n",
    "        \n",
    "    def dépôt(self, argent):\n",
    "        self.solde = self.solde + argent\n",
    "    \n",
    "    def retrait(self, argent):\n",
    "        if(self.solde < argent):\n",
    "            print(\" Impossible d'effectuer l'opération. Solde insuffisant !\")\n",
    "        else:\n",
    "            self.solde = self.solde - argent\n",
    "            \n",
    "    def afficher(self):\n",
    "        print(\"Nom & Prénom : \", self.nomPrenom)\n",
    "        print(\"Solde  : \", self.solde , \" DT \")\n",
    "        \n",
    "        \n"
   ]
  },
  {
   "cell_type": "code",
   "execution_count": 45,
   "id": "aa47d75e-b851-4bf6-8b60-72ea1fbcd053",
   "metadata": {},
   "outputs": [
    {
     "name": "stdout",
     "output_type": "stream",
     "text": [
      "Nom & Prénom :  Mehdi Haddad\n",
      "Solde  :  21400  DT \n"
     ]
    }
   ],
   "source": [
    "monCompte = bank(\"Mehdi Haddad\", 22300)\n",
    "monCompte.dépôt(1500)\n",
    "monCompte.retrait(2400)\n",
    "monCompte.afficher()"
   ]
  },
  {
   "cell_type": "code",
   "execution_count": null,
   "id": "fa0d7a2f-683c-479f-b3dd-9f92bed3d771",
   "metadata": {},
   "outputs": [],
   "source": []
  }
 ],
 "metadata": {
  "kernelspec": {
   "display_name": "Python 3 (ipykernel)",
   "language": "python",
   "name": "python3"
  },
  "language_info": {
   "codemirror_mode": {
    "name": "ipython",
    "version": 3
   },
   "file_extension": ".py",
   "mimetype": "text/x-python",
   "name": "python",
   "nbconvert_exporter": "python",
   "pygments_lexer": "ipython3",
   "version": "3.9.7"
  }
 },
 "nbformat": 4,
 "nbformat_minor": 5
}
